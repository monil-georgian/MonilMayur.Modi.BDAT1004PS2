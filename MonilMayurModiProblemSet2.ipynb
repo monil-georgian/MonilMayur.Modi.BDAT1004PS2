{
 "cells": [
  {
   "cell_type": "markdown",
   "metadata": {},
   "source": [
    "## Question 1\n",
    "\n",
    "Consider the following Python module:<br>\n",
    "a = 0 <br>\n",
    "\n",
    "def b():<br>\n",
    "    &nbsp;&nbsp;&nbsp;global a<br>\n",
    "    &nbsp;&nbsp;&nbsp;a = c(a)<br>\n",
    "    \n",
    "def c(a):<br>\n",
    "    &nbsp;&nbsp;&nbsp;return a + 2<br>\n",
    "    \n",
    "After importing the module into the interpreter, you execute:<br>\n",
    "b()<br>\n",
    "b()<br>\n",
    "b()<br>\n",
    "a<br>\n",
    "?<br>\n",
    "\n",
    "What value is displayed when the last expression (a) is evaluated? Explain your answer by indicating what happens in every executed statement."
   ]
  },
  {
   "cell_type": "code",
   "execution_count": 1,
   "metadata": {},
   "outputs": [],
   "source": [
    "# \n",
    "a = 0\n",
    "\n",
    "def b():\n",
    "    # overwrites the value of a declared before\n",
    "    global a\n",
    "    #calls function c and sets the returned value in variable a\n",
    "    a = c(a)\n",
    "    \n",
    "# uses the new value of a set in function b\n",
    "def c(a):\n",
    "    return a + 2\n",
    "\n",
    "b()\n",
    "b()\n",
    "b()\n",
    "a\n"
   ]
  },
  {
   "cell_type": "markdown",
   "metadata": {},
   "source": [
    "## Question 2\n",
    "\n",
    "Function fileLength(), given to you, takes the name of a file as input and returns the length of the file:<br><br>\n",
    "\n",
    "fileLength('midterm.py') <br>\n",
    "284 <br><br>\n",
    "fileLength('idterm.py') <br>\n",
    "Traceback (most recent call last):<br>\n",
    "    &nbsp;&nbsp;&nbsp;File \"<pyshell#34>\", line 1, in <module> <br>\n",
    "    &nbsp;&nbsp; &nbsp;&nbsp;&nbsp;fileLength('idterm.py') <br>\n",
    "     &nbsp;&nbsp;&nbsp;File \"/Users/me/midterm.py\", line 3, in fileLength<br>\n",
    "       &nbsp;&nbsp;&nbsp;&nbsp;&nbsp; infile = open(filename) <br>\n",
    "FileNotFoundError: [Errno 2] No such file or directory:<br>\n",
    "'idterm.py'<br>\n",
    "    \n",
    "As shown above, if the file cannot be found by the interpreter or if it cannot be read as a text file, an exception will be raised. Modify function fileLength() so that a friendly message is printed instead:"
   ]
  },
  {
   "cell_type": "code",
   "execution_count": 2,
   "metadata": {},
   "outputs": [
    {
     "name": "stdout",
     "output_type": "stream",
     "text": [
      "358\n",
      "File idterm.py not found\n"
     ]
    }
   ],
   "source": [
    "# take the name of a file as input and return the length of the file\n",
    "def fileLength(name):\n",
    "    'Returns length of the file'\n",
    "    # run the code block\n",
    "    try:\n",
    "        # open a file in read mode\n",
    "        with open(name,'r') as f:\n",
    "            #read length of the file\n",
    "            print(len(f.readlines()))\n",
    "        f.close()\n",
    "\n",
    "    # Exception handler, alert the user\n",
    "    except FileNotFoundError:\n",
    "        print(\"File {} not found\".format(name))\n",
    "\n",
    "fileLength('midterm.py')\n",
    "\n",
    "# trying to open a file, which does not exist\n",
    "fileLength('idterm.py')"
   ]
  },
  {
   "cell_type": "markdown",
   "metadata": {},
   "source": [
    "## Question 3\n",
    "\n",
    "Write a class named Marsupial that can be used as shown below:<br>\n",
    "m = Marsupial() <br>\n",
    "m.put_in_pouch('doll') <br>\n",
    "m.put_in_pouch('firetruck') <br>\n",
    "m.put_in_pouch('kitten') <br>\n",
    "m.pouch_contents() <br>\n",
    "['doll', 'firetruck', 'kitten']<br><br>\n",
    "\n",
    "Now write a class named Kangaroo as a subclass of Marsupial that inherits all the attributes of Marsupial and also:<br>\n",
    "a. extends the Marsupial __init__ constructor to take, as input, the coordinates x and y of the Kangaroo object,<br>\n",
    "b. supports method jump that takes number values dx and dy as input and moves the kangaroo by dx units along the x-axis and by dy units along the y-axis, and<br>\n",
    "c. overloads the __str__ operator so it behaves as shown below.<br><br>\n",
    "k = Kangaroo(0,0)<br>\n",
    "print(k) <br>\n",
    "I am a Kangaroo located at coordinates (0,0) <br>\n",
    "k.put_in_pouch('doll') <br>\n",
    "k.put_in_pouch('firetruck') <br>\n",
    "k.put_in_pouch('kitten') <br>\n",
    "k.pouch_contents() <br>\n",
    "['doll', 'firetruck', 'kitten'] <br>\n",
    "k.jump(1,0)<br>\n",
    "k.jump(1,0) <br>\n",
    "k.jump(1,0) <br>\n",
    "print(k) <br>\n",
    "I am a Kangaroo located at coordinates (3,0)<br>\n"
   ]
  },
  {
   "cell_type": "code",
   "execution_count": 8,
   "metadata": {},
   "outputs": [
    {
     "name": "stdout",
     "output_type": "stream",
     "text": [
      "I am a Kangaroo located at coordinates (0,0)\n",
      "['doll', 'firetruck', 'kitten']\n",
      "I am a Kangaroo located at coordinates (3,0)\n"
     ]
    }
   ],
   "source": [
    "#\n",
    "\n",
    "class Marsupial:\n",
    "    'Class that represents the Marsupials'\n",
    "    \n",
    "    def __init__(self):\n",
    "        'initiate a blank list'\n",
    "        self.pouch = []\n",
    "    \n",
    "    def put_in_pouch(self,item):\n",
    "        'insert item to the end of list'\n",
    "        self.pouch.append(item)\n",
    "    \n",
    "    def pouch_contents(self):\n",
    "        'display the list with items'\n",
    "        print(self.pouch)\n",
    "        \n",
    "# create subclass kangaroo that inherits all the attributes of Marsupial\n",
    "class Kangaroo(Marsupial):\n",
    "    \n",
    "    # extend the init constructor to take x & y coordinates as inputs\n",
    "    def __init__(self,x,y):\n",
    "        'set x & y coordinates of the object'\n",
    "        self.x = x\n",
    "        self.y = y\n",
    "        Marsupial.__init__(self)\n",
    "    \n",
    "    # take number values dx and dy and move dx units along the x-axis and by dy units along the y-axis\n",
    "    def jump(self,dx,dy):\n",
    "        'change the x & y coordinates by dx & dy'\n",
    "        self.x = self.x+dx\n",
    "        self.y = self.y+dy\n",
    "    \n",
    "    # overload the str operator\n",
    "    def __str__(self):\n",
    "        'return coordinates of the object as a typle'\n",
    "        return \"I am a Kangaroo located at coordinates (\"+str(self.x)+\",\"+str(self.y)+\")\"\n",
    "\n",
    "k = Kangaroo(0,0)\n",
    "print(k)\n",
    "\n",
    "k.put_in_pouch('doll')\n",
    "k.put_in_pouch('firetruck')\n",
    "k.put_in_pouch('kitten')\n",
    "k.pouch_contents()\n",
    "\n",
    "k.jump(1,0)\n",
    "k.jump(1,0)\n",
    "k.jump(1,0)\n",
    "print(k)"
   ]
  },
  {
   "cell_type": "markdown",
   "metadata": {},
   "source": [
    "## Question 5\n",
    "\n",
    "Write function collatz() that takes a positive integer x as input and prints the Collatz sequence starting at x. A Collatz sequence is obtained by repeatedly applying this rule to the previous number x in the sequence:<br><br>\n",
    "x = { 𝑥/2 𝑖𝑓 𝑥 𝑖𝑠 𝑒𝑣𝑒𝑛<br>\n",
    "    &nbsp;&nbsp;&nbsp;&nbsp;&nbsp;&nbsp;{3𝑥+1 𝑖𝑓 𝑥 𝑖𝑠 𝑜𝑑𝑑<br><br>\n",
    "Your function should stop when the sequence gets to number 1. Your implementation must be recursive, without any loops."
   ]
  },
  {
   "cell_type": "code",
   "execution_count": 6,
   "metadata": {},
   "outputs": [
    {
     "name": "stdout",
     "output_type": "stream",
     "text": [
      "1\n",
      "10\n",
      "5\n",
      "16\n",
      "8\n",
      "4\n",
      "2\n"
     ]
    }
   ],
   "source": [
    "# take positive integer and give Collatz sequence starting at the number\n",
    "\n",
    "def collatz(x):\n",
    "    'gives Collatz sequence starting at entered number'\n",
    "    \n",
    "    # Base case\n",
    "    if(x==1):\n",
    "        print(1)\n",
    "        return\n",
    "        \n",
    "    # Recursive case\n",
    "    # check if entered number greater than 1\n",
    "    while(x>1):\n",
    "        print(x)\n",
    "        # check if number is even or odd\n",
    "        if(x%2==0):\n",
    "            # if number is even assign x/2 to it\n",
    "            x = int(x/2)\n",
    "        else:\n",
    "            # if number is odd assign 3x+1 to it\n",
    "            x = (3*x)+1\n",
    "\n",
    "collatz(1)\n",
    "collatz(10)"
   ]
  },
  {
   "cell_type": "markdown",
   "metadata": {},
   "source": [
    "## Question 6\n",
    "\n",
    "Write a recursive method binary() that takes a non-negative integer n and prints the binary representation of integer n."
   ]
  },
  {
   "cell_type": "code",
   "execution_count": null,
   "metadata": {},
   "outputs": [],
   "source": [
    "# recursive method to get binary representation of a number\n",
    "\n",
    "def binary(n):\n",
    "    'gives binary representation of a number using recursion'\n",
    "    \n",
    "    # Base case\n",
    "    if(n==0):\n",
    "        print(0)\n",
    "        return\n",
    "    \n",
    "    # Recursive case\n",
    "    # check if entered number is non-negative\n",
    "    while(n>0):\n",
    "        #\n",
    "        print(1)\n",
    "\n",
    "binary(0)\n",
    "binary(1)\n",
    "binary(3)\n",
    "binary(9)"
   ]
  },
  {
   "cell_type": "markdown",
   "metadata": {},
   "source": [
    "## Question 7\n",
    "\n",
    "Implement a class named HeadingParser that can be used to parse an HTML document, and retrieve and print all the headings in the document. You should implement your class as a subclass of HTMLParser, defined in Standard Library module html.parser. When fed a string containing HTML code, your class should print the headings, one per line and in the order in which they appear in the document. Each heading should be indented as follows: an h1 heading should have indentation 0, and h2 heading should have indentation 1, etc. Test your implementation using w3c.html."
   ]
  },
  {
   "cell_type": "code",
   "execution_count": null,
   "metadata": {},
   "outputs": [],
   "source": []
  },
  {
   "cell_type": "markdown",
   "metadata": {},
   "source": [
    "## Question 8\n",
    "\n",
    "Implement recursive function webdir() that takes as input: a URL (as a string) and non-negative integers depth and indent. Your function should visit every web page reachable from the starting URL web page in depth clicks or less, and print each web page's URL. As shown below, indentation, specified by indent, should be used to indicate the depth of a URL."
   ]
  },
  {
   "cell_type": "code",
   "execution_count": null,
   "metadata": {},
   "outputs": [],
   "source": []
  },
  {
   "cell_type": "markdown",
   "metadata": {},
   "source": [
    "## Question 9\n",
    "\n",
    "Write SQL queries on the below database table that return:<br>\n",
    "a) All the temperature data.<br>\n",
    "b) All the cities, but without repetition.<br>\n",
    "c) All the records for India.<br>\n",
    "d) All the Fall records.<br>\n",
    "e) The city, country, and season for which the average rainfall is between 200 and 400 millimeters.<br>\n",
    "f) The city and country for which the average Fall temperature is above 20 degrees, in increasing temperature order.<br>\n",
    "g) The total annual rainfall for Cairo.<br>\n",
    "h) The total rainfall for each season.<br>"
   ]
  },
  {
   "cell_type": "code",
   "execution_count": null,
   "metadata": {},
   "outputs": [],
   "source": []
  },
  {
   "cell_type": "markdown",
   "metadata": {},
   "source": [
    "## Question 10\n",
    "\n",
    "Suppose list words is defined as follows:<br>\n",
    "words = ['The', 'quick', 'brown', 'fox', 'jumps', 'over', 'the', 'lazy', 'dog']<br><br>\n",
    "Write list comprehension expressions that use list words and generate the following lists:<br>\n",
    "a) ['THE', 'QUICK', 'BROWN', 'FOX', 'JUMPS', 'OVER', 'THE', 'LAZY', 'DOG']<br>\n",
    "b) ['the', 'quick', 'brown', 'fox', 'jumps', 'over', 'the', 'lazy', 'dog']<br>\n",
    "c) [3, 5, 5, 3, 5, 4, 3, 4, 3] (the list of lengths of words in list words).<br>\n",
    "d) [['THE', 'the', 3], ['QUICK', 'quick', 5], ['BROWN', 'brown', 5], ['FOX', 'fox', 3], ['JUMPS', 'jumps', 5], ['OVER', 'over', 4], ['THE', 'the', 3], ['LAZY', 'lazy', 4], ['DOG', 'dog', 3]] (the list containing a list for every word of list words, where each list contains the word in uppercase and lowercase and the length of the word.)<br>\n",
    "e) ['The', 'quick', 'brown', 'fox', 'jumps', 'over', 'the', 'lazy', 'dog'] (the list of words in list words containing 4 or more characters.)"
   ]
  },
  {
   "cell_type": "code",
   "execution_count": 7,
   "metadata": {},
   "outputs": [
    {
     "name": "stdout",
     "output_type": "stream",
     "text": [
      "['THE', 'QUICK', 'BROWN', 'FOX', 'JUMPS', 'OVER', 'THE', 'LAZY', 'DOG']\n",
      "['the', 'quick', 'brown', 'fox', 'jumps', 'over', 'the', 'lazy', 'dog']\n",
      "[3, 5, 5, 3, 5, 4, 3, 4, 3]\n",
      "[['THE', 'the', 3], ['QUICK', 'quick', 5], ['BROWN', 'brown', 5], ['FOX', 'fox', 3], ['JUMPS', 'jumps', 5], ['OVER', 'over', 4], ['THE', 'the', 3], ['LAZY', 'lazy', 4], ['DOG', 'dog', 3]]\n",
      "['quick', 'brown', 'jumps', 'over', 'lazy']\n"
     ]
    }
   ],
   "source": [
    "# List Comprehension Expressions on list words\n",
    "\n",
    "words = ['The', 'quick', 'brown', 'fox', 'jumps', 'over', 'the', 'lazy', 'dog']\n",
    "\n",
    "# list of lower case of words in list \"words\"\n",
    "upperList = [ word.upper() for word in words]\n",
    "print(upperList)\n",
    "\n",
    "# list of lower case of words in list \"words\"\n",
    "lowerList = [ word.lower() for word in words]\n",
    "print(lowerList)\n",
    "\n",
    "# list of lengths of words in list \"words\"\n",
    "lenList = [ len(word) for word in words]\n",
    "print(lenList)\n",
    "\n",
    "#  list containing a list for every word of list \"words\", where each list contains the word in uppercase and lowercase and the length of the word\n",
    "uplowlenList = [ [word.upper(),word.lower(), len(word)] for word in words]\n",
    "print(uplowlenList)\n",
    "\n",
    "# list of words in list \"words\" containing 4 or more characters\n",
    "char4List = [ word for word in words if len(word)>=4]\n",
    "print(char4List)"
   ]
  }
 ],
 "metadata": {
  "kernelspec": {
   "display_name": "Python 3",
   "language": "python",
   "name": "python3"
  },
  "language_info": {
   "codemirror_mode": {
    "name": "ipython",
    "version": 3
   },
   "file_extension": ".py",
   "mimetype": "text/x-python",
   "name": "python",
   "nbconvert_exporter": "python",
   "pygments_lexer": "ipython3",
   "version": "3.7.6"
  }
 },
 "nbformat": 4,
 "nbformat_minor": 4
}
